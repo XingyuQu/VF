{
 "cells": [
  {
   "cell_type": "markdown",
   "metadata": {},
   "source": [
    "# Get the permuted model parameters after performing permutation found by ZipIt!\n",
    "\n",
    "This notebook contains the implementation to get the permuted model parameters after performing permutation found by ZipIt!. These parameters are then used to evaluate the performances of different post-merging normalization strategies, as reported in Figure 3 of our paper.\n",
    "\n",
    "For running the code, please first use our training scripts to train the models and move the checkpoints to the corresponding directories in the following code."
   ]
  },
  {
   "cell_type": "code",
   "execution_count": 1,
   "metadata": {},
   "outputs": [
    {
     "name": "stderr",
     "output_type": "stream",
     "text": [
      "/home/xingyu/anaconda3/envs/cpal/lib/python3.9/site-packages/tqdm/auto.py:21: TqdmWarning: IProgress not found. Please update jupyter and ipywidgets. See https://ipywidgets.readthedocs.io/en/stable/user_install.html\n",
      "  from .autonotebook import tqdm as notebook_tqdm\n"
     ]
    }
   ],
   "source": [
    "import torch\n",
    "from copy import deepcopy\n",
    "import os\n",
    "from utils import get_config_from_name, prepare_experiment_config,\\\n",
    "     get_merging_fn\n",
    "from model_merger import ModelMerge\n",
    "from lmc_utils import interpolate_state_dicts"
   ]
  },
  {
   "cell_type": "code",
   "execution_count": 3,
   "metadata": {},
   "outputs": [],
   "source": [
    "config_name = 'cifar10_my_vgg16'\n",
    "device = 'cuda:0'\n",
    "raw_config = get_config_from_name(config_name, device=device)\n",
    "pairs_s = ['1_2']*2 + ['2_3']*2 + ['1_3']*1\n",
    "\n",
    "num_saved_pairs = 0\n",
    "for pairs in pairs_s:\n",
    "    # change the model bases to the desired pair\n",
    "    pairs = pairs.split('_')\n",
    "    pairs = [int(pair) for pair in pairs]\n",
    "    for i, model_idx in enumerate(pairs):\n",
    "        path = raw_config['model']['bases'][i]  # ..._1.pth\n",
    "        # replace the last digit with the model_idx\n",
    "        path = path[:-5] + '_' + str(model_idx) + '.pt'\n",
    "        # remove ./ from the path\n",
    "        # if path.startswith('./'):\n",
    "        #     path = path[2:]\n",
    "        raw_config['model']['bases'][i] = path\n",
    "\n",
    "    # prepare models\n",
    "    model_paths = deepcopy(raw_config['model']['bases'])\n",
    "    cur_config = deepcopy(raw_config)\n",
    "    config = prepare_experiment_config(cur_config)\n",
    "    train_loader = config['data']['train']['full']\n",
    "    test_loader = config['data']['test']['full']\n",
    "    base_models = [base_model for base_model in\n",
    "                    config['models']['bases']]\n",
    "    Grapher = config['graph']\n",
    "    criterion = torch.nn.CrossEntropyLoss()\n",
    "\n",
    "    merging_fn = 'match_tensors_zipit' # use zipit to match tensors\n",
    "    graphs = [Grapher(deepcopy(base_model)).graphify() for base_model\n",
    "                        in base_models]\n",
    "    Merge = ModelMerge(*graphs, device=device)\n",
    "    Merge.transform(\n",
    "        deepcopy(config['models']['new']),\n",
    "        train_loader,\n",
    "        transform_fn=get_merging_fn(merging_fn),\n",
    "        metric_classes=config['metric_fns'],\n",
    "        stop_at=None,\n",
    "        start_at=None\n",
    "    )\n",
    "\n",
    "    # get permuted model\n",
    "    graphs = Merge.graphs\n",
    "    base_model_merge_s = [deepcopy(graph.model) for graph in graphs]\n",
    "    # remove all hooks from the model\n",
    "    for model in base_model_merge_s:\n",
    "        model._forward_hooks = {}\n",
    "        model._backward_hooks = {}\n",
    "    sd_1_permuted = base_model_merge_s[0].state_dict()\n",
    "    sd_2_permuted = base_model_merge_s[1].state_dict()\n",
    "    sd_1_save_name = f'checkpoints/cifar10_my_vgg16_{num_saved_pairs*2+1}_zipit.pth'\n",
    "    sd_2_save_name = f'checkpoints/cifar10_my_vgg16_{(num_saved_pairs+1)*2}_zipit.pth'\n",
    "    if os.path.exists(sd_1_save_name):\n",
    "        raise FileExistsError(f'{sd_1_save_name} already exists')\n",
    "    elif os.path.exists(sd_2_save_name):\n",
    "        raise FileExistsError(f'{sd_2_save_name} already exists')\n",
    "    else:\n",
    "        torch.save(sd_1_permuted, sd_1_save_name)\n",
    "        torch.save(sd_2_permuted, sd_2_save_name)\n",
    "    num_saved_pairs += 1"
   ]
  }
 ],
 "metadata": {
  "kernelspec": {
   "display_name": "cpal",
   "language": "python",
   "name": "python3"
  },
  "language_info": {
   "codemirror_mode": {
    "name": "ipython",
    "version": 3
   },
   "file_extension": ".py",
   "mimetype": "text/x-python",
   "name": "python",
   "nbconvert_exporter": "python",
   "pygments_lexer": "ipython3",
   "version": "3.9.21"
  }
 },
 "nbformat": 4,
 "nbformat_minor": 2
}
