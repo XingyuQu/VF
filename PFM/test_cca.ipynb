{
 "cells": [
  {
   "cell_type": "code",
   "execution_count": 1,
   "metadata": {},
   "outputs": [],
   "source": [
    "import sys\n",
    "sys.path.append('..')"
   ]
  },
  {
   "cell_type": "code",
   "execution_count": 8,
   "metadata": {},
   "outputs": [],
   "source": [
    "import torch\n",
    "from copy import deepcopy\n",
    "import os\n",
    "from utils import get_config_from_name, prepare_experiment_config,\\\n",
    "     get_merging_fn\n",
    "from model_merger import ModelMerge\n",
    "from lmc_utils import interpolate_state_dicts\n",
    "from graphs.base_graph import NodeType\n",
    "\n",
    "def validate(model, testloader, criterion, device):\n",
    "    model.eval()\n",
    "    correct = 0\n",
    "    total = 0\n",
    "    loss_sum = 0\n",
    "\n",
    "    with torch.no_grad():\n",
    "        for data in testloader:\n",
    "            images, labels = data \n",
    "            images = images.to(device)\n",
    "            labels = labels.to(device)\n",
    "            outputs = model(images)\n",
    "            loss = criterion(outputs, labels)\n",
    "            loss_sum += loss.item()\n",
    "            _, predicted = torch.max(outputs, 1)\n",
    "            total += labels.size(0)\n",
    "            correct += (predicted == labels).sum().item()\n",
    "    print('Accuracy of the network on the 10000 test images: \\\n",
    "        {}'.format(100 * correct / total))\n",
    "    return loss_sum / total, correct / total"
   ]
  },
  {
   "cell_type": "code",
   "execution_count": 14,
   "metadata": {},
   "outputs": [
    {
     "name": "stdout",
     "output_type": "stream",
     "text": [
      "Files already downloaded and verified\n",
      "Files already downloaded and verified\n",
      "Preparing Models\n"
     ]
    }
   ],
   "source": [
    "config_name = 'test_cca'\n",
    "device = 'cuda:0'\n",
    "raw_config = get_config_from_name(config_name, device=device)\n",
    "# change the model bases to the desired pair\n",
    "ckpt_dir = '../../Linear_Mode_Connectivity/same_init_ex/cifar10/cifar_vgg16/diff_init/seed_20'\n",
    "raw_config['model']['bases'][0] = os.path.join(ckpt_dir, 'model_1_160.pt')\n",
    "raw_config['model']['bases'][1] = os.path.join(ckpt_dir, 'model_2_160.pt')\n",
    "# prepare models\n",
    "model_paths = deepcopy(raw_config['model']['bases'])\n",
    "cur_config = deepcopy(raw_config)\n",
    "config = prepare_experiment_config(cur_config)\n",
    "train_loader = config['data']['train']['full']\n",
    "test_loader = config['data']['test']['full']\n",
    "base_models = [base_model for base_model in\n",
    "                config['models']['bases']]\n",
    "Grapher = config['graph']\n",
    "criterion = torch.nn.CrossEntropyLoss()"
   ]
  },
  {
   "cell_type": "code",
   "execution_count": 15,
   "metadata": {},
   "outputs": [
    {
     "data": {
      "text/plain": [
       "[None, 3, 6, 10, 13, 17, 20, 23, 27, 30, 33, 37, 40, 43]"
      ]
     },
     "execution_count": 15,
     "metadata": {},
     "output_type": "execute_result"
    }
   ],
   "source": [
    "graphs = [Grapher(deepcopy(base_model)).graphify() for base_model\n",
    "                    in base_models]\n",
    "prefix_nodes = []\n",
    "for node in graphs[0].G.nodes:\n",
    "    node_info = graphs[0].get_node_info(node)\n",
    "    if node_info['type'] == NodeType.PREFIX:\n",
    "        prefix_nodes.append(node)\n",
    "prefix_nodes = [None] + prefix_nodes\n",
    "prefix_nodes"
   ]
  },
  {
   "cell_type": "code",
   "execution_count": 30,
   "metadata": {},
   "outputs": [
    {
     "name": "stdout",
     "output_type": "stream",
     "text": [
      "Forward Pass to Compute Merge Metrics: \n",
      "Computing transformations: \n",
      "Accuracy of the network on the 10000 test images:         76.61\n",
      "Forward Pass to Compute Merge Metrics: \n",
      "Computing transformations: \n",
      "Accuracy of the network on the 10000 test images:         77.41\n",
      "Forward Pass to Compute Merge Metrics: \n",
      "Computing transformations: \n",
      "Accuracy of the network on the 10000 test images:         74.82\n",
      "Forward Pass to Compute Merge Metrics: \n",
      "Computing transformations: \n",
      "Accuracy of the network on the 10000 test images:         77.87\n",
      "Forward Pass to Compute Merge Metrics: \n",
      "Computing transformations: \n",
      "Accuracy of the network on the 10000 test images:         74.91\n",
      "Forward Pass to Compute Merge Metrics: \n",
      "Computing transformations: \n",
      "Accuracy of the network on the 10000 test images:         83.85\n",
      "Forward Pass to Compute Merge Metrics: \n",
      "Computing transformations: \n",
      "Accuracy of the network on the 10000 test images:         85.33\n",
      "Forward Pass to Compute Merge Metrics: \n",
      "Computing transformations: \n",
      "Accuracy of the network on the 10000 test images:         87.08\n",
      "Forward Pass to Compute Merge Metrics: \n",
      "Computing transformations: \n",
      "Accuracy of the network on the 10000 test images:         87.79\n",
      "Forward Pass to Compute Merge Metrics: \n",
      "Computing transformations: \n",
      "Accuracy of the network on the 10000 test images:         89.93\n",
      "Forward Pass to Compute Merge Metrics: \n",
      "Computing transformations: \n",
      "Accuracy of the network on the 10000 test images:         92.08\n",
      "Forward Pass to Compute Merge Metrics: \n",
      "Computing transformations: \n",
      "Accuracy of the network on the 10000 test images:         93.06\n",
      "Forward Pass to Compute Merge Metrics: \n",
      "Computing transformations: \n",
      "Accuracy of the network on the 10000 test images:         93.19\n",
      "Forward Pass to Compute Merge Metrics: \n",
      "Computing transformations: \n",
      "Accuracy of the network on the 10000 test images:         93.26\n"
     ]
    }
   ],
   "source": [
    "test_acc_s = []\n",
    "for start_at in prefix_nodes:\n",
    "    merging_fn = 'match_tensors_cca' # use zipit to match tensors\n",
    "    graphs = [Grapher(deepcopy(base_model)).graphify() for base_model\n",
    "                        in base_models]\n",
    "    Merge = ModelMerge(*graphs, device=device)\n",
    "    Merge.transform(\n",
    "        deepcopy(config['models']['new']),\n",
    "        train_loader,\n",
    "        transform_fn=get_merging_fn(merging_fn),\n",
    "        metric_classes=config['metric_fns'],\n",
    "        stop_at=None,\n",
    "        start_at=start_at\n",
    "    )\n",
    "    test_acc = validate(Merge, test_loader, criterion, device)[1]\n",
    "    test_acc_s.append(test_acc)"
   ]
  },
  {
   "cell_type": "code",
   "execution_count": 36,
   "metadata": {},
   "outputs": [
    {
     "data": {
      "text/plain": [
       "[<matplotlib.lines.Line2D at 0x25f1f2e4948>]"
      ]
     },
     "execution_count": 36,
     "metadata": {},
     "output_type": "execute_result"
    },
    {
     "data": {
      "image/png": "[encoded data removed]",
      "text/plain": [
       "<Figure size 640x480 with 1 Axes>"
      ]
     },
     "metadata": {},
     "output_type": "display_data"
    }
   ],
   "source": [
    "import matplotlib.pyplot as plt\n",
    "\n",
    "plt.plot(test_acc_s)"
   ]
  }
 ],
 "metadata": {
  "kernelspec": {
   "display_name": "align-n-merge",
   "language": "python",
   "name": "python3"
  },
  "language_info": {
   "codemirror_mode": {
    "name": "ipython",
    "version": 3
   },
   "file_extension": ".py",
   "mimetype": "text/x-python",
   "name": "python",
   "nbconvert_exporter": "python",
   "pygments_lexer": "ipython3",
   "version": "3.7.16"
  }
 },
 "nbformat": 4,
 "nbformat_minor": 2
}
