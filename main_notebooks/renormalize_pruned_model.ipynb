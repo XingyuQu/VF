{
 "cells": [
  {
   "cell_type": "markdown",
   "metadata": {},
   "source": [
    "This notebook provides a simple example of applying the normalization to a pruned model after the unstructured global magnitude pruning."
   ]
  },
  {
   "cell_type": "code",
   "execution_count": 1,
   "metadata": {},
   "outputs": [],
   "source": [
    "import sys\n",
    "sys.path.append(\"..\")"
   ]
  },
  {
   "cell_type": "code",
   "execution_count": 2,
   "metadata": {},
   "outputs": [
    {
     "name": "stderr",
     "output_type": "stream",
     "text": [
      "/home/xingyu/anaconda3/envs/cpal/lib/python3.9/site-packages/tqdm/auto.py:21: TqdmWarning: IProgress not found. Please update jupyter and ipywidgets. See https://ipywidgets.readthedocs.io/en/stable/user_install.html\n",
      "  from .autonotebook import tqdm as notebook_tqdm\n"
     ]
    }
   ],
   "source": [
    "import torch\n",
    "import torch.nn as nn\n",
    "from source.utils.utils import load_model\n",
    "from source.utils.data_funcs import load_data\n",
    "from source.utils.logger import Logger\n",
    "from source.utils.connect import make_tracked_net, make_repaired_net, reset_bn_stats, TrackLayer, ResetLayer\n",
    "from source.utils.train import validate\n",
    "from torch.utils.data import DataLoader\n",
    "import matplotlib.pyplot as plt\n",
    "import numpy as np\n",
    "from copy import deepcopy\n",
    "\n",
    "import torch.nn.utils.prune as prune"
   ]
  },
  {
   "cell_type": "code",
   "execution_count": 3,
   "metadata": {},
   "outputs": [],
   "source": [
    "class config:\n",
    "    model = 'cifar_vgg16_ln'\n",
    "    dataset = 'cifar10'\n",
    "    special_init = 'vgg_init' # 'vgg_init' (kaiming init) or None (uniform init)\n",
    "    print_freq = 100\n",
    "    data_dir = '..//data'\n",
    "    n = 3 # number of interpolation points"
   ]
  },
  {
   "cell_type": "code",
   "execution_count": 4,
   "metadata": {},
   "outputs": [
    {
     "name": "stdout",
     "output_type": "stream",
     "text": [
      "Files already downloaded and verified\n",
      "Files already downloaded and verified\n",
      "Files already downloaded and verified\n",
      "Files already downloaded and verified\n"
     ]
    }
   ],
   "source": [
    "# necessary to create logger if using the train/validate/eval_line etc. functions\n",
    "Logger.setup_logging()\n",
    "logger = Logger()\n",
    "\n",
    "trainset, testset = load_data(config.data_dir, config.dataset)\n",
    "trainloader = DataLoader(trainset, batch_size=128, shuffle=True)\n",
    "testloader = DataLoader(testset, batch_size=256, shuffle=False)\n",
    "\n",
    "trainset_noaug, _ = load_data(config.data_dir, config.dataset, no_random_aug=True)\n",
    "trainloader_noaug = DataLoader(trainset_noaug, batch_size=128, shuffle=True)\n",
    "\n",
    "device = torch.device('cuda:0' if torch.cuda.is_available() else 'cpu')\n",
    "criterion = torch.nn.CrossEntropyLoss()"
   ]
  },
  {
   "cell_type": "code",
   "execution_count": 5,
   "metadata": {},
   "outputs": [
    {
     "data": {
      "text/plain": [
       "<All keys matched successfully>"
      ]
     },
     "execution_count": 5,
     "metadata": {},
     "output_type": "execute_result"
    }
   ],
   "source": [
    "sd = torch.load(f'../ex_results/same_init_ex/{config.dataset}/{config.model}/diff_init/vgg_init/seed_10_step_lr/model_1_160.pt')\n",
    "model = load_model(config).to(device)\n",
    "model.load_state_dict(sd)"
   ]
  },
  {
   "cell_type": "code",
   "execution_count": 6,
   "metadata": {},
   "outputs": [
    {
     "name": "stderr",
     "output_type": "stream",
     "text": [
      "[2024-12-14 13:39:35] (2626549) {utils.py:69}INFO - Test: [ 1/40]\tTime  0.021 ( 0.021)\tLoss 3.8984e-01 (3.8984e-01)\tAcc@1  93.36 ( 93.36)\tAcc@5  99.61 ( 99.61)\n",
      "[2024-12-14 13:39:36] (2626549) {utils.py:74}INFO -  *   Acc@1 92.500 Acc@5 99.590\n",
      "[2024-12-14 13:39:42] (2626549) {utils.py:69}INFO - Test: [ 1/40]\tTime  0.039 ( 0.039)\tLoss 3.9425e-01 (3.9425e-01)\tAcc@1  93.36 ( 93.36)\tAcc@5  99.22 ( 99.22)\n",
      "[2024-12-14 13:39:43] (2626549) {utils.py:74}INFO -  *   Acc@1 92.510 Acc@5 99.570\n",
      "[2024-12-14 13:39:43] (2626549) {utils.py:69}INFO - Test: [ 1/40]\tTime  0.019 ( 0.019)\tLoss 3.8234e-01 (3.8234e-01)\tAcc@1  93.75 ( 93.75)\tAcc@5  99.61 ( 99.61)\n",
      "[2024-12-14 13:39:43] (2626549) {utils.py:74}INFO -  *   Acc@1 92.510 Acc@5 99.610\n",
      "[2024-12-14 13:39:49] (2626549) {utils.py:69}INFO - Test: [ 1/40]\tTime  0.021 ( 0.021)\tLoss 3.9083e-01 (3.9083e-01)\tAcc@1  93.36 ( 93.36)\tAcc@5  99.61 ( 99.61)\n",
      "[2024-12-14 13:39:50] (2626549) {utils.py:74}INFO -  *   Acc@1 92.520 Acc@5 99.590\n",
      "[2024-12-14 13:39:50] (2626549) {utils.py:69}INFO - Test: [ 1/40]\tTime  0.020 ( 0.020)\tLoss 3.6623e-01 (3.6623e-01)\tAcc@1  93.75 ( 93.75)\tAcc@5  99.61 ( 99.61)\n",
      "[2024-12-14 13:39:51] (2626549) {utils.py:74}INFO -  *   Acc@1 92.480 Acc@5 99.510\n",
      "[2024-12-14 13:39:57] (2626549) {utils.py:69}INFO - Test: [ 1/40]\tTime  0.021 ( 0.021)\tLoss 3.7321e-01 (3.7321e-01)\tAcc@1  93.75 ( 93.75)\tAcc@5  99.61 ( 99.61)\n",
      "[2024-12-14 13:39:57] (2626549) {utils.py:74}INFO -  *   Acc@1 92.530 Acc@5 99.580\n",
      "[2024-12-14 13:39:57] (2626549) {utils.py:69}INFO - Test: [ 1/40]\tTime  0.020 ( 0.020)\tLoss 3.2145e-01 (3.2145e-01)\tAcc@1  92.97 ( 92.97)\tAcc@5  99.61 ( 99.61)\n",
      "[2024-12-14 13:39:58] (2626549) {utils.py:74}INFO -  *   Acc@1 92.130 Acc@5 99.350\n",
      "[2024-12-14 13:40:04] (2626549) {utils.py:69}INFO - Test: [ 1/40]\tTime  0.021 ( 0.021)\tLoss 3.3351e-01 (3.3351e-01)\tAcc@1  92.97 ( 92.97)\tAcc@5  99.61 ( 99.61)\n",
      "[2024-12-14 13:40:05] (2626549) {utils.py:74}INFO -  *   Acc@1 92.310 Acc@5 99.550\n",
      "[2024-12-14 13:40:05] (2626549) {utils.py:69}INFO - Test: [ 1/40]\tTime  0.020 ( 0.020)\tLoss 8.6930e-01 (8.6930e-01)\tAcc@1  75.78 ( 75.78)\tAcc@5  94.53 ( 94.53)\n",
      "[2024-12-14 13:40:06] (2626549) {utils.py:74}INFO -  *   Acc@1 72.600 Acc@5 93.730\n",
      "[2024-12-14 13:40:11] (2626549) {utils.py:69}INFO - Test: [ 1/40]\tTime  0.021 ( 0.021)\tLoss 2.9064e-01 (2.9064e-01)\tAcc@1  93.75 ( 93.75)\tAcc@5  98.83 ( 98.83)\n",
      "[2024-12-14 13:40:12] (2626549) {utils.py:74}INFO -  *   Acc@1 91.740 Acc@5 99.360\n",
      "[2024-12-14 13:40:12] (2626549) {utils.py:69}INFO - Test: [ 1/40]\tTime  0.020 ( 0.020)\tLoss 3.2558e+00 (3.2558e+00)\tAcc@1   9.38 (  9.38)\tAcc@5  51.56 ( 51.56)\n",
      "[2024-12-14 13:40:13] (2626549) {utils.py:74}INFO -  *   Acc@1 10.000 Acc@5 50.000\n",
      "[2024-12-14 13:40:19] (2626549) {utils.py:69}INFO - Test: [ 1/40]\tTime  0.021 ( 0.021)\tLoss 5.0598e-01 (5.0598e-01)\tAcc@1  89.06 ( 89.06)\tAcc@5  97.27 ( 97.27)\n",
      "[2024-12-14 13:40:20] (2626549) {utils.py:74}INFO -  *   Acc@1 87.980 Acc@5 97.230\n",
      "[2024-12-14 13:40:20] (2626549) {utils.py:69}INFO - Test: [ 1/40]\tTime  0.019 ( 0.019)\tLoss 5.1191e+00 (5.1191e+00)\tAcc@1   9.38 (  9.38)\tAcc@5  50.00 ( 50.00)\n",
      "[2024-12-14 13:40:20] (2626549) {utils.py:74}INFO -  *   Acc@1 10.000 Acc@5 50.000\n",
      "[2024-12-14 13:40:26] (2626549) {utils.py:69}INFO - Test: [ 1/40]\tTime  0.021 ( 0.021)\tLoss 2.7705e+00 (2.7705e+00)\tAcc@1  15.62 ( 15.62)\tAcc@5  53.91 ( 53.91)\n",
      "[2024-12-14 13:40:27] (2626549) {utils.py:74}INFO -  *   Acc@1 15.000 Acc@5 52.160\n"
     ]
    }
   ],
   "source": [
    "model_tracked = make_tracked_net(model, device)\n",
    "reset_bn_stats(model_tracked, device, trainloader)\n",
    "\n",
    "pruned_test = [[], []]\n",
    "repair_test = [[], []]\n",
    "sparsity_s = [0.5, 0.6, 0.7, 0.8, 0.9, 0.95, 0.99]\n",
    "for amount in sparsity_s:\n",
    "    model_global_pruned = deepcopy(model)\n",
    "\n",
    "    conv_idx = []\n",
    "    for i in range(len(model_global_pruned.features)):\n",
    "        if isinstance(model_global_pruned.features[i], nn.Conv2d):\n",
    "            conv_idx.append(i)\n",
    "    parameters_pruned = []\n",
    "    for i in conv_idx:\n",
    "        parameters_pruned.append((getattr(model_global_pruned, f'features')[i], 'weight'))\n",
    "    parameters_pruned.append((model_global_pruned.classifier[0], 'weight'))\n",
    "    parameters_pruned = tuple(parameters_pruned)\n",
    "    prune.global_unstructured(parameters_pruned, pruning_method=prune.L1Unstructured, amount=amount)\n",
    "\n",
    "    for param, name in parameters_pruned:\n",
    "        prune.remove(param, name)\n",
    "\n",
    "    loss, acc, _, _ = validate(testloader, model_global_pruned, criterion, device, config)\n",
    "    pruned_test[0].append(loss)\n",
    "    pruned_test[1].append(acc)\n",
    "\n",
    "    model_repaird = make_repaired_net(model_global_pruned, device)\n",
    "\n",
    "    for track, reset in zip(model_tracked.modules(),\n",
    "                            model_repaird.modules()):\n",
    "        if not isinstance(track, TrackLayer):\n",
    "            continue\n",
    "        assert (isinstance(track, TrackLayer)\n",
    "                and isinstance(reset, ResetLayer))\n",
    "\n",
    "        # get neuronal statistics of original networks\n",
    "        mu, std = track.get_stats()\n",
    "        # set the goal neuronal statistics for the merged network\n",
    "        mu = mu.clone()\n",
    "        std = std.clone()\n",
    "        goal_mean = mu\n",
    "        goal_std = std\n",
    "        reset.set_stats(goal_mean, goal_std)\n",
    "\n",
    "    reset_bn_stats(model_repaird, device, trainloader)\n",
    "    loss, acc, _, _ = validate(testloader, model_repaird, criterion, device, config)\n",
    "    repair_test[0].append(loss)\n",
    "    repair_test[1].append(acc)"
   ]
  },
  {
   "cell_type": "code",
   "execution_count": 7,
   "metadata": {},
   "outputs": [
    {
     "data": {
      "text/plain": [
       "<matplotlib.legend.Legend at 0x793fbeaff250>"
      ]
     },
     "execution_count": 7,
     "metadata": {},
     "output_type": "execute_result"
    },
    {
     "data": {
      "image/png": "[encoded data removed]",
      "text/plain": [
       "<Figure size 640x480 with 1 Axes>"
      ]
     },
     "metadata": {},
     "output_type": "display_data"
    }
   ],
   "source": [
    "plt.plot(sparsity_s, pruned_test[1], label='Original', marker='s')\n",
    "plt.plot(sparsity_s, repair_test[1], label='REPAIR', marker='o')\n",
    "plt.axhline(y=90, color='r', linestyle='--', label='90% accuracy')\n",
    "plt.xlabel('Sparsity (%)')\n",
    "plt.ylabel('Test accuracy (%)')\n",
    "plt.title('REPAIR Pruned VGG16 LN trained on CIFAR-10')\n",
    "plt.legend()"
   ]
  }
 ],
 "metadata": {
  "kernelspec": {
   "display_name": "cpal",
   "language": "python",
   "name": "python3"
  },
  "language_info": {
   "codemirror_mode": {
    "name": "ipython",
    "version": 3
   },
   "file_extension": ".py",
   "mimetype": "text/x-python",
   "name": "python",
   "nbconvert_exporter": "python",
   "pygments_lexer": "ipython3",
   "version": "3.9.21"
  }
 },
 "nbformat": 4,
 "nbformat_minor": 2
}
